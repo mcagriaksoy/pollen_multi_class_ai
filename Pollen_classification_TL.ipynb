{
  "nbformat": 4,
  "nbformat_minor": 0,
  "metadata": {
    "colab": {
      "provenance": [],
      "gpuType": "T4",
      "authorship_tag": "ABX9TyOMHSufAJf4x16nB6TXEjYf",
      "include_colab_link": true
    },
    "kernelspec": {
      "name": "python3",
      "display_name": "Python 3"
    },
    "language_info": {
      "name": "python"
    },
    "accelerator": "GPU"
  },
  "cells": [
    {
      "cell_type": "markdown",
      "metadata": {
        "id": "view-in-github",
        "colab_type": "text"
      },
      "source": [
        "<a href=\"https://colab.research.google.com/github/mcagriaksoy/pollen_multi_class_ai/blob/main/Pollen_classification_TL.ipynb\" target=\"_parent\"><img src=\"https://colab.research.google.com/assets/colab-badge.svg\" alt=\"Open In Colab\"/></a>"
      ]
    },
    {
      "cell_type": "code",
      "execution_count": null,
      "metadata": {
        "id": "6_nwaEPTiUG5"
      },
      "outputs": [],
      "source": [
        "#Mehmet Cagri Aksoy . 2024\n",
        "#github.com/mcagriaksoy"
      ]
    },
    {
      "cell_type": "code",
      "source": [
        "from google.colab import drive\n",
        "drive.mount('/content/drive/')"
      ],
      "metadata": {
        "id": "99_Goru3i-Yl",
        "colab": {
          "base_uri": "https://localhost:8080/"
        },
        "outputId": "9ec01625-4162-4923-d07a-af4133c45800"
      },
      "execution_count": null,
      "outputs": [
        {
          "output_type": "stream",
          "name": "stdout",
          "text": [
            "Drive already mounted at /content/drive/; to attempt to forcibly remount, call drive.mount(\"/content/drive/\", force_remount=True).\n"
          ]
        }
      ]
    },
    {
      "cell_type": "code",
      "source": [
        "!unzip /content/drive/MyDrive/Datasets/Pollen/Pollen_Dataset.zip"
      ],
      "metadata": {
        "id": "sScpnDCXkyjZ"
      },
      "execution_count": null,
      "outputs": []
    },
    {
      "cell_type": "code",
      "source": [
        "CLASS_NUMBER = 116\n",
        "channels = 3\n",
        "img_height = 50\n",
        "img_width = 50\n",
        "epochs = 50\n",
        "batch_size = 64\n",
        "\n",
        "input_shape = (img_height,img_width,channels)"
      ],
      "metadata": {
        "id": "5oCZiGIZi_f5"
      },
      "execution_count": null,
      "outputs": []
    },
    {
      "cell_type": "code",
      "source": [
        "import random\n",
        "import numpy as np\n",
        "import matplotlib.pyplot as plt\n",
        "import tensorflow as tf\n",
        "# We'll build the CNN as a sequence of layers.\n",
        "from tensorflow.keras import layers\n",
        "from tensorflow.keras.models import Sequential\n",
        "from tensorflow.keras.layers import Conv2D, MaxPooling2D, Dense, Dropout, Flatten, BatchNormalization\n",
        "# Libraries to handle the data\n",
        "import json\n",
        "from PIL import Image # PIL = Python Image Library\n",
        "from tensorflow.keras import Model\n",
        "from tensorflow.keras.layers import Dense, Dropout, GlobalAveragePooling2D, BatchNormalization\n"
      ],
      "metadata": {
        "id": "3RMyb4U4jIgS"
      },
      "execution_count": null,
      "outputs": []
    },
    {
      "cell_type": "markdown",
      "source": [],
      "metadata": {
        "id": "G29QsTt_jKxR"
      }
    },
    {
      "cell_type": "code",
      "source": [
        "def add_noise(img):\n",
        "    '''Add random noise to an image'''\n",
        "    VARIABILITY = 50\n",
        "    deviation = VARIABILITY*random.random()\n",
        "    noise = np.random.normal(0, deviation, img.shape)\n",
        "    img += noise\n",
        "    np.clip(img, 0., 255.)\n",
        "    return img"
      ],
      "metadata": {
        "id": "dPwIGOT2bS6q"
      },
      "execution_count": null,
      "outputs": []
    },
    {
      "cell_type": "code",
      "source": [
        "train_Datagen = tf.keras.preprocessing.image.ImageDataGenerator(\n",
        "    rescale=1./255,\n",
        "    #horizontal_flip=True,\n",
        "    #vertical_flip=True,\n",
        "    #rotation_range=20,\n",
        "    #brightness_range=(0.8,1.2),\n",
        "    #zoom_range = [1, 1.2],\n",
        "    #width_shift_range=0.2,\n",
        "    #height_shift_range=0.2,\n",
        "    #shear_range=0.2,\n",
        "    #preprocessing_function=add_noise,\n",
        "    validation_split=0.25\n",
        ")\n",
        "\n",
        "dir = '/content/train'\n",
        "\n",
        "train_dataset = train_Datagen.flow_from_directory(batch_size=batch_size,\n",
        "                                                 directory=dir,\n",
        "                                                 shuffle=False,\n",
        "                                                 target_size=(img_height,img_width),\n",
        "                                                 subset=\"training\",\n",
        "                                                 class_mode='categorical')\n",
        "\n",
        "validation_dataset = train_Datagen.flow_from_directory(batch_size=batch_size,\n",
        "                                                 directory=dir,\n",
        "                                                 shuffle=False,\n",
        "                                                 target_size=(img_height,img_width),\n",
        "                                                 subset=\"validation\",\n",
        "                                                 class_mode='categorical')\n"
      ],
      "metadata": {
        "colab": {
          "base_uri": "https://localhost:8080/"
        },
        "id": "cCIeFMoHnvBH",
        "outputId": "aa4f3dad-aa61-4c19-9912-a595898be177"
      },
      "execution_count": null,
      "outputs": [
        {
          "output_type": "stream",
          "name": "stdout",
          "text": [
            "Found 16203 images belonging to 116 classes.\n",
            "Found 5327 images belonging to 116 classes.\n"
          ]
        }
      ]
    },
    {
      "cell_type": "code",
      "source": [
        "train_classes = train_dataset.classes"
      ],
      "metadata": {
        "id": "BysLQsLhAP1v"
      },
      "execution_count": null,
      "outputs": []
    },
    {
      "cell_type": "code",
      "source": [
        "train_dataset.class_indices"
      ],
      "metadata": {
        "id": "kDNXOm25hfHm",
        "colab": {
          "base_uri": "https://localhost:8080/"
        },
        "outputId": "14206018-f686-454c-bf1e-6a859f89f474"
      },
      "execution_count": null,
      "outputs": [
        {
          "output_type": "execute_result",
          "data": {
            "text/plain": [
              "{'100_prunus': 0,\n",
              " '101_populus': 1,\n",
              " '102_platanus': 2,\n",
              " '103_fraxinus': 3,\n",
              " '104_dactylis': 4,\n",
              " '105_corylus': 5,\n",
              " '106_carpinus_betulus': 6,\n",
              " '107_brassica_napus': 7,\n",
              " '108_betula': 8,\n",
              " '109_anthoxanthum-grass': 9,\n",
              " '10_olea': 10,\n",
              " '110_alnus': 11,\n",
              " '111_aesculus-carnea': 12,\n",
              " '112_acer_pseudoplatanus': 13,\n",
              " '113_archontophoenix_cunninghamiana': 14,\n",
              " '114_brugmansia_suaveolens': 15,\n",
              " '115_mimosa_ditrans': 16,\n",
              " '116_schizolobium_parahyba': 17,\n",
              " '117_not_polen': 18,\n",
              " '11_origanum': 19,\n",
              " '12_oxalis': 20,\n",
              " '13_pinus_nigra': 21,\n",
              " '14_pistacia': 22,\n",
              " '15_salvia': 23,\n",
              " '16_satureja': 24,\n",
              " '17_sinapis': 25,\n",
              " '18_thymbra': 26,\n",
              " '19_urginea': 27,\n",
              " '1_asphodelus': 28,\n",
              " '20_vitis': 29,\n",
              " '21_acacia_plumosa': 30,\n",
              " '22_acrocomia_aculeta': 31,\n",
              " '23_anadenanthera_colubrina': 32,\n",
              " '24_arachis_sp': 33,\n",
              " '25_arecaceae': 34,\n",
              " '26_arrabidaea_florida': 35,\n",
              " '27_aspilia_grazielae': 36,\n",
              " '28_bacopa_australis': 37,\n",
              " '29_caesalpinia_peltophoroides': 38,\n",
              " '2_calicotome': 39,\n",
              " '30_caryocar_brasiliensis': 40,\n",
              " '31_cecropia_pachystachya': 41,\n",
              " '32_ceiba_speciosa': 42,\n",
              " '33_chromolaena_laevigata': 43,\n",
              " '34_cissus_campestris': 44,\n",
              " '35_cissus_spinosa': 45,\n",
              " '36_combretum_discolor': 46,\n",
              " '37_cordia_trichotoma': 47,\n",
              " '38_cosmos_caudatus': 48,\n",
              " '39_croton_urucurana': 49,\n",
              " '3_castanea': 50,\n",
              " '40_dianella_tasmanica': 51,\n",
              " '41_dipteryx_alata': 52,\n",
              " '42_doliocarpus_dentatus': 53,\n",
              " '43_erythrina_mulungu': 54,\n",
              " '44_eucalyptus_sp': 55,\n",
              " '45_faramea_sp': 56,\n",
              " '46_genipa_auniricana': 57,\n",
              " '47_gomphrena_sp': 58,\n",
              " '48_guapuruvu': 59,\n",
              " '49_guazuma_ulmifolia': 60,\n",
              " '4_ceratonia': 61,\n",
              " '50_hortia_oreadica': 62,\n",
              " '51_hyptis_sp': 63,\n",
              " '52_ligustrum_lucidum': 64,\n",
              " '53_luehea_divaricata': 65,\n",
              " '54_mabea_fistulifera': 66,\n",
              " '55_machaerium_aculeatum': 67,\n",
              " '56_magnolia_champaca': 68,\n",
              " '57_manihot_esculenta': 69,\n",
              " '58_matayba_guianensis': 70,\n",
              " '59_mauritia_flexuosa': 71,\n",
              " '5_ebenus': 72,\n",
              " '60_mimosa_ditans': 73,\n",
              " '61_mimosa_pigra': 74,\n",
              " '62_mitostemma_brevifilis': 75,\n",
              " '63_myracroduon_urundeuva': 76,\n",
              " '64_myrcia_guianensis': 77,\n",
              " '65_ochroma_pyramidale': 78,\n",
              " '66_ouratea_hexasperma': 79,\n",
              " '67_pachira_aquatica': 80,\n",
              " '68_palmeira_real': 81,\n",
              " '69_passiflora_gibertii': 82,\n",
              " '6_erica': 83,\n",
              " '70_paullinia_spicata': 84,\n",
              " '71_piper_aduncum': 85,\n",
              " '72_poaceae_sp': 86,\n",
              " '73_protium_heptaphyllum': 87,\n",
              " '74_qualea_multiflora': 88,\n",
              " '75_ricinus_communis': 89,\n",
              " '76_schinus_sp': 90,\n",
              " '77_senegalia_plumosa': 91,\n",
              " '78_serjania_erecta': 92,\n",
              " '79_serjania_hebecarpa': 93,\n",
              " '7_eucalyptus': 94,\n",
              " '80_serjania_laruotteana': 95,\n",
              " '81_serjania_sp': 96,\n",
              " '82_sida_cerradoensis': 97,\n",
              " '83_solanum_sisymbriifolium': 98,\n",
              " '84_syagrus': 99,\n",
              " '85_syagrus_romanzoffiana': 100,\n",
              " '86_symplocos_nitens': 101,\n",
              " '87_tabebuia_chysotricha': 102,\n",
              " '88_tabebuia_rosealba': 103,\n",
              " '89_tapirira_guianensis': 104,\n",
              " '8_ferula': 105,\n",
              " '90_tradescantia_pallida': 106,\n",
              " '91_trema_micrantha': 107,\n",
              " '92_trembleya_phlogiformis': 108,\n",
              " '94_tridax_procumbens': 109,\n",
              " '95_urochloa': 110,\n",
              " '96_vochysia_divergens': 111,\n",
              " '97_zea_mays': 112,\n",
              " '98_taxus': 113,\n",
              " '99_sequoiadendron-giganteum': 114,\n",
              " '9_myrtus': 115}"
            ]
          },
          "metadata": {},
          "execution_count": 36
        }
      ]
    },
    {
      "cell_type": "code",
      "source": [
        "from sklearn.utils.class_weight import compute_class_weight\n",
        "class_weights = compute_class_weight(\n",
        "                                        class_weight = \"balanced\",\n",
        "                                        classes = np.unique(train_classes),\n",
        "                                        y = train_classes\n",
        "                                    )\n",
        "class_weights = dict(zip(np.unique(train_classes), class_weights))"
      ],
      "metadata": {
        "id": "rPEc9bNz_fQO"
      },
      "execution_count": null,
      "outputs": []
    },
    {
      "cell_type": "code",
      "source": [
        "from collections import Counter\n",
        "counter = Counter(train_dataset.classes)\n",
        "\n",
        "plt.figure(figsize = (6,3))\n",
        "plt.title('Class Counts in Dataset')\n",
        "plt.bar(*zip(*counter.items()))\n",
        "plt.xlim([-1,len(class_weights)])\n",
        "plt.xticks(rotation='vertical')\n",
        "plt.show()"
      ],
      "metadata": {
        "id": "9WtXb8qgvCgB",
        "colab": {
          "base_uri": "https://localhost:8080/",
          "height": 326
        },
        "outputId": "50739e8a-2601-4740-8540-dba6c990f1db"
      },
      "execution_count": null,
      "outputs": [
        {
          "output_type": "display_data",
          "data": {
            "text/plain": [
              "<Figure size 600x300 with 1 Axes>"
            ],
            "image/png": "[encoded data removed]"
          },
          "metadata": {}
        }
      ]
    },
    {
      "cell_type": "markdown",
      "source": [
        "**Jax**"
      ],
      "metadata": {
        "id": "tDKUElqjmx4r"
      }
    },
    {
      "cell_type": "code",
      "source": [
        "base_model = tf.keras.applications.MobileNetV2(input_shape = input_shape, include_top = False, weights = \"imagenet\")\n",
        "base_model.trainable = False\n",
        "model = tf.keras.Sequential([base_model,\n",
        "                             tf.keras.layers.GlobalAveragePooling2D(),\n",
        "                             tf.keras.layers.Dropout(0.1),\n",
        "                             tf.keras.layers.Dense(CLASS_NUMBER, activation=\"softmax\")\n",
        "                            ])\n",
        "model.summary()"
      ],
      "metadata": {
        "colab": {
          "base_uri": "https://localhost:8080/"
        },
        "id": "LiVqbVmJnCXd",
        "outputId": "009406e3-6424-4121-af16-156f2b6ba719"
      },
      "execution_count": null,
      "outputs": [
        {
          "output_type": "stream",
          "name": "stderr",
          "text": [
            "WARNING:tensorflow:`input_shape` is undefined or non-square, or `rows` is not in [96, 128, 160, 192, 224]. Weights for input shape (224, 224) will be loaded as the default.\n"
          ]
        },
        {
          "output_type": "stream",
          "name": "stdout",
          "text": [
            "Model: \"sequential_4\"\n",
            "_________________________________________________________________\n",
            " Layer (type)                Output Shape              Param #   \n",
            "=================================================================\n",
            " mobilenetv2_1.00_224 (Func  (None, 2, 2, 1280)        2257984   \n",
            " tional)                                                         \n",
            "                                                                 \n",
            " global_average_pooling2d_4  (None, 1280)              0         \n",
            "  (GlobalAveragePooling2D)                                       \n",
            "                                                                 \n",
            " dropout_3 (Dropout)         (None, 1280)              0         \n",
            "                                                                 \n",
            " dense_5 (Dense)             (None, 116)               148596    \n",
            "                                                                 \n",
            "=================================================================\n",
            "Total params: 2406580 (9.18 MB)\n",
            "Trainable params: 148596 (580.45 KB)\n",
            "Non-trainable params: 2257984 (8.61 MB)\n",
            "_________________________________________________________________\n"
          ]
        }
      ]
    },
    {
      "cell_type": "code",
      "source": [
        "opt = tf.keras.optimizers.Adam(\n",
        "    #learning_rate = 0.001\n",
        "    )\n",
        "\n",
        "reduce_lr = tf.keras.callbacks.ReduceLROnPlateau(monitor='val_loss', factor=0.2,\n",
        "                              patience=5, min_lr=0.001)\n",
        "\n",
        "model.compile(optimizer=opt, loss='categorical_crossentropy', metrics=['accuracy'], run_eagerly=True)"
      ],
      "metadata": {
        "id": "965zHYUUpmfe"
      },
      "execution_count": null,
      "outputs": []
    },
    {
      "cell_type": "code",
      "source": [
        "from keras.callbacks import ModelCheckpoint, EarlyStopping\n",
        "\n",
        "model_path = 'densenet_yeni_Deneme.h5'\n",
        "callback = [EarlyStopping(monitor ='val_loss', patience = 5), reduce_lr,\n",
        "             ModelCheckpoint(filepath = model_path, save_best_only = True, mode='min', verbose=1)]"
      ],
      "metadata": {
        "id": "5bd_Qe1jqZh8"
      },
      "execution_count": null,
      "outputs": []
    },
    {
      "cell_type": "code",
      "source": [
        "from keras.models import load_model\n",
        "\n",
        "#Reload model\n",
        "model = load_model('/content/densenet_yeni_Deneme.h5')"
      ],
      "metadata": {
        "id": "HMzDzew2ZyWN"
      },
      "execution_count": null,
      "outputs": []
    },
    {
      "cell_type": "code",
      "source": [
        "physical_devices = tf.config.list_physical_devices('GPU')\n",
        "\n",
        "print(\"GPU:\", tf.config.list_physical_devices('GPU'))\n",
        "print(\"Num GPUs:\", len(physical_devices))"
      ],
      "metadata": {
        "colab": {
          "base_uri": "https://localhost:8080/"
        },
        "id": "hheIRZ14m7CG",
        "outputId": "4961dc2a-d218-4119-c319-4df5cc8bc93f"
      },
      "execution_count": null,
      "outputs": [
        {
          "output_type": "stream",
          "name": "stdout",
          "text": [
            "GPU: [PhysicalDevice(name='/physical_device:GPU:0', device_type='GPU')]\n",
            "Num GPUs: 1\n"
          ]
        }
      ]
    },
    {
      "cell_type": "code",
      "source": [
        "model.fit(\n",
        "    train_dataset,\n",
        "    steps_per_epoch = train_dataset.samples // batch_size,\n",
        "    validation_data = validation_dataset,\n",
        "    validation_steps = validation_dataset.samples // batch_size,\n",
        "    epochs = epochs,\n",
        "    class_weight = class_weights,\n",
        "    callbacks = callback\n",
        "    )"
      ],
      "metadata": {
        "colab": {
          "base_uri": "https://localhost:8080/"
        },
        "id": "jjKXhyYTo7-R",
        "outputId": "d281a5f7-a3a4-4232-c1d0-812743d4c869"
      },
      "execution_count": null,
      "outputs": [
        {
          "output_type": "stream",
          "name": "stdout",
          "text": [
            "Epoch 1/50\n",
            "253/253 [==============================] - ETA: 0s - loss: 5.6292 - accuracy: 0.0496\n",
            "Epoch 1: val_loss improved from inf to 3.08673, saving model to densenet_yeni_Deneme.h5\n"
          ]
        },
        {
          "output_type": "stream",
          "name": "stderr",
          "text": [
            "/usr/local/lib/python3.10/dist-packages/keras/src/engine/training.py:3103: UserWarning: You are saving your model as an HDF5 file via `model.save()`. This file format is considered legacy. We recommend using instead the native Keras format, e.g. `model.save('my_model.keras')`.\n",
            "  saving_api.save_model(\n"
          ]
        },
        {
          "output_type": "stream",
          "name": "stdout",
          "text": [
            "\b\b\b\b\b\b\b\b\b\b\b\b\b\b\b\b\b\b\b\b\b\b\b\b\b\b\b\b\b\b\b\b\b\b\b\b\b\b\b\b\b\b\b\b\b\b\b\b\b\b\b\b\b\b\b\b\b\b\b\b\b\b\b\b\b\b\b\b\b\b\b\b\b\b\b\b\b\b\b\b\b\b\b\b\r253/253 [==============================] - 73s 286ms/step - loss: 5.6292 - accuracy: 0.0496 - val_loss: 3.0867 - val_accuracy: 0.2344 - lr: 0.0010\n",
            "Epoch 2/50\n",
            "253/253 [==============================] - ETA: 0s - loss: 2.9751 - accuracy: 0.2357\n",
            "Epoch 2: val_loss improved from 3.08673 to 2.52484, saving model to densenet_yeni_Deneme.h5\n",
            "253/253 [==============================] - 79s 310ms/step - loss: 2.9751 - accuracy: 0.2357 - val_loss: 2.5248 - val_accuracy: 0.3407 - lr: 0.0010\n",
            "Epoch 3/50\n",
            "253/253 [==============================] - ETA: 0s - loss: 2.3578 - accuracy: 0.3501\n",
            "Epoch 3: val_loss improved from 2.52484 to 2.30477, saving model to densenet_yeni_Deneme.h5\n",
            "253/253 [==============================] - 91s 361ms/step - loss: 2.3578 - accuracy: 0.3501 - val_loss: 2.3048 - val_accuracy: 0.3899 - lr: 0.0010\n",
            "Epoch 4/50\n",
            "253/253 [==============================] - ETA: 0s - loss: 1.9946 - accuracy: 0.4387\n",
            "Epoch 4: val_loss improved from 2.30477 to 2.08060, saving model to densenet_yeni_Deneme.h5\n",
            "253/253 [==============================] - 79s 311ms/step - loss: 1.9946 - accuracy: 0.4387 - val_loss: 2.0806 - val_accuracy: 0.4452 - lr: 0.0010\n",
            "Epoch 5/50\n",
            "253/253 [==============================] - ETA: 0s - loss: 1.7470 - accuracy: 0.4982\n",
            "Epoch 5: val_loss improved from 2.08060 to 2.04551, saving model to densenet_yeni_Deneme.h5\n",
            "253/253 [==============================] - 79s 313ms/step - loss: 1.7470 - accuracy: 0.4982 - val_loss: 2.0455 - val_accuracy: 0.4646 - lr: 0.0010\n",
            "Epoch 6/50\n",
            "253/253 [==============================] - ETA: 0s - loss: 1.5757 - accuracy: 0.5379\n",
            "Epoch 6: val_loss improved from 2.04551 to 2.01862, saving model to densenet_yeni_Deneme.h5\n",
            "253/253 [==============================] - 72s 286ms/step - loss: 1.5757 - accuracy: 0.5379 - val_loss: 2.0186 - val_accuracy: 0.4736 - lr: 0.0010\n",
            "Epoch 7/50\n",
            "253/253 [==============================] - ETA: 0s - loss: 1.4914 - accuracy: 0.5583\n",
            "Epoch 7: val_loss improved from 2.01862 to 1.86177, saving model to densenet_yeni_Deneme.h5\n",
            "253/253 [==============================] - 81s 321ms/step - loss: 1.4914 - accuracy: 0.5583 - val_loss: 1.8618 - val_accuracy: 0.4996 - lr: 0.0010\n",
            "Epoch 8/50\n",
            "253/253 [==============================] - ETA: 0s - loss: 1.3504 - accuracy: 0.5967\n",
            "Epoch 8: val_loss improved from 1.86177 to 1.80310, saving model to densenet_yeni_Deneme.h5\n",
            "253/253 [==============================] - 80s 318ms/step - loss: 1.3504 - accuracy: 0.5967 - val_loss: 1.8031 - val_accuracy: 0.5168 - lr: 0.0010\n",
            "Epoch 9/50\n",
            "253/253 [==============================] - ETA: 0s - loss: 1.2815 - accuracy: 0.6105\n",
            "Epoch 9: val_loss improved from 1.80310 to 1.79659, saving model to densenet_yeni_Deneme.h5\n",
            "253/253 [==============================] - 72s 286ms/step - loss: 1.2815 - accuracy: 0.6105 - val_loss: 1.7966 - val_accuracy: 0.5292 - lr: 0.0010\n",
            "Epoch 10/50\n",
            "253/253 [==============================] - ETA: 0s - loss: 1.1737 - accuracy: 0.6462\n",
            "Epoch 10: val_loss improved from 1.79659 to 1.78858, saving model to densenet_yeni_Deneme.h5\n",
            "253/253 [==============================] - 72s 283ms/step - loss: 1.1737 - accuracy: 0.6462 - val_loss: 1.7886 - val_accuracy: 0.5294 - lr: 0.0010\n",
            "Epoch 11/50\n",
            "253/253 [==============================] - ETA: 0s - loss: 1.1240 - accuracy: 0.6607\n",
            "Epoch 11: val_loss improved from 1.78858 to 1.74217, saving model to densenet_yeni_Deneme.h5\n",
            "253/253 [==============================] - 81s 318ms/step - loss: 1.1240 - accuracy: 0.6607 - val_loss: 1.7422 - val_accuracy: 0.5412 - lr: 0.0010\n",
            "Epoch 12/50\n",
            "253/253 [==============================] - ETA: 0s - loss: 1.0535 - accuracy: 0.6810\n",
            "Epoch 12: val_loss improved from 1.74217 to 1.69991, saving model to densenet_yeni_Deneme.h5\n",
            "253/253 [==============================] - 80s 314ms/step - loss: 1.0535 - accuracy: 0.6810 - val_loss: 1.6999 - val_accuracy: 0.5437 - lr: 0.0010\n",
            "Epoch 13/50\n",
            "253/253 [==============================] - ETA: 0s - loss: 0.9766 - accuracy: 0.7003\n",
            "Epoch 13: val_loss improved from 1.69991 to 1.67548, saving model to densenet_yeni_Deneme.h5\n",
            "253/253 [==============================] - 80s 316ms/step - loss: 0.9766 - accuracy: 0.7003 - val_loss: 1.6755 - val_accuracy: 0.5753 - lr: 0.0010\n",
            "Epoch 14/50\n",
            "253/253 [==============================] - ETA: 0s - loss: 0.9271 - accuracy: 0.7193\n",
            "Epoch 14: val_loss did not improve from 1.67548\n",
            "253/253 [==============================] - 80s 314ms/step - loss: 0.9271 - accuracy: 0.7193 - val_loss: 1.6903 - val_accuracy: 0.5734 - lr: 0.0010\n",
            "Epoch 15/50\n",
            "253/253 [==============================] - ETA: 0s - loss: 0.9078 - accuracy: 0.7239\n",
            "Epoch 15: val_loss did not improve from 1.67548\n",
            "253/253 [==============================] - 72s 282ms/step - loss: 0.9078 - accuracy: 0.7239 - val_loss: 1.7558 - val_accuracy: 0.5537 - lr: 0.0010\n",
            "Epoch 16/50\n",
            "253/253 [==============================] - ETA: 0s - loss: 0.8750 - accuracy: 0.7287\n",
            "Epoch 16: val_loss did not improve from 1.67548\n",
            "253/253 [==============================] - 79s 312ms/step - loss: 0.8750 - accuracy: 0.7287 - val_loss: 1.7076 - val_accuracy: 0.5727 - lr: 0.0010\n",
            "Epoch 17/50\n",
            "253/253 [==============================] - ETA: 0s - loss: 0.8149 - accuracy: 0.7479\n",
            "Epoch 17: val_loss did not improve from 1.67548\n",
            "253/253 [==============================] - 72s 285ms/step - loss: 0.8149 - accuracy: 0.7479 - val_loss: 1.7396 - val_accuracy: 0.5610 - lr: 0.0010\n",
            "Epoch 18/50\n",
            "253/253 [==============================] - ETA: 0s - loss: 0.8031 - accuracy: 0.7497\n",
            "Epoch 18: val_loss improved from 1.67548 to 1.66464, saving model to densenet_yeni_Deneme.h5\n",
            "253/253 [==============================] - 80s 315ms/step - loss: 0.8031 - accuracy: 0.7497 - val_loss: 1.6646 - val_accuracy: 0.5926 - lr: 0.0010\n",
            "Epoch 19/50\n",
            "253/253 [==============================] - ETA: 0s - loss: 0.7365 - accuracy: 0.7732\n",
            "Epoch 19: val_loss did not improve from 1.66464\n",
            "253/253 [==============================] - 72s 283ms/step - loss: 0.7365 - accuracy: 0.7732 - val_loss: 1.6894 - val_accuracy: 0.5683 - lr: 0.0010\n",
            "Epoch 20/50\n",
            "253/253 [==============================] - ETA: 0s - loss: 0.7266 - accuracy: 0.7702\n",
            "Epoch 20: val_loss did not improve from 1.66464\n",
            "253/253 [==============================] - 79s 313ms/step - loss: 0.7266 - accuracy: 0.7702 - val_loss: 1.7226 - val_accuracy: 0.5744 - lr: 0.0010\n",
            "Epoch 21/50\n",
            "253/253 [==============================] - ETA: 0s - loss: 0.6819 - accuracy: 0.7893\n",
            "Epoch 21: val_loss improved from 1.66464 to 1.62589, saving model to densenet_yeni_Deneme.h5\n",
            "253/253 [==============================] - 80s 314ms/step - loss: 0.6819 - accuracy: 0.7893 - val_loss: 1.6259 - val_accuracy: 0.5894 - lr: 0.0010\n",
            "Epoch 22/50\n",
            "253/253 [==============================] - ETA: 0s - loss: 0.6633 - accuracy: 0.7913\n",
            "Epoch 22: val_loss did not improve from 1.62589\n",
            "253/253 [==============================] - 80s 315ms/step - loss: 0.6633 - accuracy: 0.7913 - val_loss: 1.6534 - val_accuracy: 0.5813 - lr: 0.0010\n",
            "Epoch 23/50\n",
            "253/253 [==============================] - ETA: 0s - loss: 0.6443 - accuracy: 0.7983\n",
            "Epoch 23: val_loss did not improve from 1.62589\n",
            "253/253 [==============================] - 72s 285ms/step - loss: 0.6443 - accuracy: 0.7983 - val_loss: 1.6393 - val_accuracy: 0.5873 - lr: 0.0010\n",
            "Epoch 24/50\n",
            "253/253 [==============================] - ETA: 0s - loss: 0.6519 - accuracy: 0.7926\n",
            "Epoch 24: val_loss did not improve from 1.62589\n",
            "253/253 [==============================] - 79s 313ms/step - loss: 0.6519 - accuracy: 0.7926 - val_loss: 1.6820 - val_accuracy: 0.5873 - lr: 0.0010\n",
            "Epoch 25/50\n",
            "253/253 [==============================] - ETA: 0s - loss: 0.6045 - accuracy: 0.8104\n",
            "Epoch 25: val_loss improved from 1.62589 to 1.57787, saving model to densenet_yeni_Deneme.h5\n",
            "253/253 [==============================] - 71s 280ms/step - loss: 0.6045 - accuracy: 0.8104 - val_loss: 1.5779 - val_accuracy: 0.6107 - lr: 0.0010\n",
            "Epoch 26/50\n",
            "253/253 [==============================] - ETA: 0s - loss: 0.5700 - accuracy: 0.8200\n",
            "Epoch 26: val_loss did not improve from 1.57787\n",
            "253/253 [==============================] - 71s 279ms/step - loss: 0.5700 - accuracy: 0.8200 - val_loss: 1.5949 - val_accuracy: 0.6043 - lr: 0.0010\n",
            "Epoch 27/50\n",
            "253/253 [==============================] - ETA: 0s - loss: 0.5651 - accuracy: 0.8230\n",
            "Epoch 27: val_loss did not improve from 1.57787\n",
            "253/253 [==============================] - 80s 315ms/step - loss: 0.5651 - accuracy: 0.8230 - val_loss: 1.6694 - val_accuracy: 0.5949 - lr: 0.0010\n",
            "Epoch 28/50\n",
            "253/253 [==============================] - ETA: 0s - loss: 0.5362 - accuracy: 0.8321\n",
            "Epoch 28: val_loss did not improve from 1.57787\n",
            "253/253 [==============================] - 79s 312ms/step - loss: 0.5362 - accuracy: 0.8321 - val_loss: 1.6389 - val_accuracy: 0.6018 - lr: 0.0010\n",
            "Epoch 29/50\n",
            "253/253 [==============================] - ETA: 0s - loss: 0.5057 - accuracy: 0.8439\n",
            "Epoch 29: val_loss did not improve from 1.57787\n",
            "253/253 [==============================] - 82s 322ms/step - loss: 0.5057 - accuracy: 0.8439 - val_loss: 1.6835 - val_accuracy: 0.6034 - lr: 0.0010\n",
            "Epoch 30/50\n",
            "253/253 [==============================] - ETA: 0s - loss: 0.4865 - accuracy: 0.8485\n",
            "Epoch 30: val_loss did not improve from 1.57787\n",
            "253/253 [==============================] - 72s 284ms/step - loss: 0.4865 - accuracy: 0.8485 - val_loss: 1.6856 - val_accuracy: 0.6165 - lr: 0.0010\n"
          ]
        },
        {
          "output_type": "execute_result",
          "data": {
            "text/plain": [
              "<keras.src.callbacks.History at 0x7ea9666f9900>"
            ]
          },
          "metadata": {},
          "execution_count": 41
        }
      ]
    },
    {
      "cell_type": "code",
      "source": [
        "import os\n",
        "import shutil\n",
        "\n",
        "# Specify the directory\n",
        "dir_path = \"/content/Pollen_Dataset/train\"\n",
        "\n",
        "# Get a list of all folders in the directory\n",
        "folders = [name for name in os.listdir(dir_path) if os.path.isdir(os.path.join(dir_path, name))]\n",
        "\n",
        "# Sort the list of folders\n",
        "folders.sort()\n",
        "\n",
        "# Loop over the sorted list and rename each folder\n",
        "for i, folder in enumerate(folders, start=1):\n",
        "    old_folder_path = os.path.join(dir_path, folder)\n",
        "    # If folder name has at least one capital letter change it to the lower case\n",
        "    if any(x.isupper() for x in folder):\n",
        "        folder = folder.lower()\n",
        "    new_folder_path = os.path.join(dir_path, f\"{folder}\")\n",
        "    shutil.move(old_folder_path, new_folder_path)"
      ],
      "metadata": {
        "id": "CEzttiH_LVDE"
      },
      "execution_count": null,
      "outputs": []
    },
    {
      "cell_type": "code",
      "source": [
        "class_names = ['prunus', 'populus', 'platanus', 'fraxinus', 'dactylis', 'corylus', 'carpinus_betulus', 'brassica_napus', 'betula', 'anthoxanthum-grass', 'olea', 'alnus', 'aesculus-carnea', 'acer_pseudoplatanus', 'origanum', 'oxalis', 'pinus_nigra', 'pistacia', 'salvia', 'satureja', 'sinapis', 'thymbra', 'urginea', 'asphodelus', 'vitis', 'acacia_plumosa', 'acrocomia_aculeta', 'anadenanthera_colubrina', 'arachis_sp', 'arecaceae', 'arrabidaea_florida', 'aspilia_grazielae', 'bacopa_australis', 'caesalpinia_peltophoroides', 'calicotome', 'caryocar_brasiliensis', 'cecropia_pachystachya', 'ceiba_speciosa', 'chromolaena_laevigata', 'cissus_campestris', 'cissus_spinosa', 'combretum_discolor', 'cordia_trichotoma', 'cosmos_caudatus', 'croton_urucurana', 'castanea', 'dianella_tasmanica', 'dipteryx_alata', 'doliocarpus_dentatus', 'erythrina_mulungu', 'eucalyptus_sp', 'faramea_sp', 'genipa_auniricana', 'gomphrena_sp', 'guapuruvu', 'guazuma_ulmifolia', 'ceratonia', 'hortia_oreadica', 'hyptis_sp', 'ligustrum_lucidum', 'luehea_divaricata', 'mabea_fistulifera', 'machaerium_aculeatum', 'magnolia_champaca', 'manihot_esculenta', 'matayba_guianensis', 'mauritia_flexuosa', 'ebenus', 'mimosa_ditans', 'mimosa_pigra', 'mitostemma_brevifilis', 'myracroduon_urundeuva', 'myrcia_guianensis', 'ochroma_pyramidale', 'ouratea_hexasperma', 'pachira_aquatica', 'palmeira_real', 'passiflora_gibertii', 'erica', 'paullinia_spicata', 'piper_aduncum', 'poaceae_sp', 'protium_heptaphyllum', 'qualea_multiflora', 'ricinus_communis', 'schinus_sp', 'senegalia_plumosa', 'serjania_erecta', 'serjania_hebecarpa', 'eucalyptus', 'serjania_laruotteana', 'serjania_sp', 'sida_cerradoensis', 'solanum_sisymbriifolium', 'syagrus', 'syagrus_romanzoffiana', 'symplocos_nitens', 'tabebuia_chysotricha', 'tabebuia_rosealba', 'tapirira_guianensis', 'ferula', 'tradescantia_pallida', 'trema_micrantha', 'trembleya_phlogiformis', 'tridax', 'tridax_procumbens', 'urochloa', 'vochysia_divergens', 'zea_mays', 'taxus', 'sequoiadendron-giganteum', 'myrtus']\n"
      ],
      "metadata": {
        "id": "Wd4qYOqZEYOs"
      },
      "execution_count": null,
      "outputs": []
    },
    {
      "cell_type": "code",
      "source": [
        "import PIL\n",
        "\n",
        "original = Image.open('/content/Pollen_Dataset/train/66_ouratea_hexasperma/ouratea_hexasperma_0001.png').resize((50, 50))\n",
        "original = original.convert('RGB')\n",
        "numpy_image = np.array(original)\n",
        "image_batch = np.expand_dims(numpy_image, axis=0)\n",
        "processed_image = image_batch / 255.0\n",
        "\n",
        "prediction = model.predict(processed_image)\n",
        "\n",
        "# Instead of printing the maximum predicted value, print the top 10 classes and their probabilities\n",
        "\n",
        "for i in range(97):\n",
        "    # Print percentage of accuracy instead the raw data\n",
        "    percentage = prediction[0][i] * 100\n",
        "    if percentage < 0.1:\n",
        "        continue\n",
        "    print(f\"{class_names[i-1]}: {percentage:.2f}%\")"
      ],
      "metadata": {
        "colab": {
          "base_uri": "https://localhost:8080/"
        },
        "id": "owCh5RvKEEk4",
        "outputId": "e0a0a5a7-71ff-4cb6-e824-c82bf3917bbd"
      },
      "execution_count": null,
      "outputs": [
        {
          "output_type": "stream",
          "name": "stdout",
          "text": [
            "1/1 [==============================] - 8s 8s/step\n",
            "acer_pseudoplatanus: 2.36%\n",
            "sinapis: 0.26%\n",
            "anadenanthera_colubrina: 0.58%\n",
            "aspilia_grazielae: 3.13%\n",
            "calicotome: 0.93%\n",
            "cecropia_pachystachya: 1.12%\n",
            "doliocarpus_dentatus: 6.59%\n",
            "faramea_sp: 0.67%\n",
            "guapuruvu: 1.40%\n",
            "guazuma_ulmifolia: 0.16%\n",
            "hyptis_sp: 0.48%\n",
            "machaerium_aculeatum: 2.28%\n",
            "mitostemma_brevifilis: 2.14%\n",
            "ochroma_pyramidale: 70.52%\n",
            "paullinia_spicata: 2.51%\n",
            "qualea_multiflora: 1.43%\n",
            "senegalia_plumosa: 0.10%\n",
            "eucalyptus: 0.11%\n"
          ]
        }
      ]
    },
    {
      "cell_type": "code",
      "source": [
        "from sklearn.metrics import confusion_matrix\n",
        "#Predict\n",
        "y_prediction = model.predict(validation_dataset)\n",
        "#Create confusion matrix and normalizes it over predicted (columns)\n"
      ],
      "metadata": {
        "id": "hgXGp0ltIQfi"
      },
      "execution_count": null,
      "outputs": []
    },
    {
      "cell_type": "code",
      "source": [
        "y_prediction.shape"
      ],
      "metadata": {
        "id": "xYK7HYz1Kaw3"
      },
      "execution_count": null,
      "outputs": []
    },
    {
      "cell_type": "code",
      "source": [
        "validation_dataset.class_indices"
      ],
      "metadata": {
        "id": "Ws79s1j8KgJq"
      },
      "execution_count": null,
      "outputs": []
    },
    {
      "cell_type": "code",
      "source": [
        "result = confusion_matrix(validation_dataset.class_indices, y_prediction , normalize='pred')"
      ],
      "metadata": {
        "id": "k3-pgN7PJOrx"
      },
      "execution_count": null,
      "outputs": []
    }
  ]
}