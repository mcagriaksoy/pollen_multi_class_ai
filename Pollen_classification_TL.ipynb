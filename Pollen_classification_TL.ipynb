{
  "nbformat": 4,
  "nbformat_minor": 0,
  "metadata": {
    "colab": {
      "provenance": [],
      "authorship_tag": "ABX9TyN4y2iDyUu8BzrJZj5Zr3AQ",
      "include_colab_link": true
    },
    "kernelspec": {
      "name": "python3",
      "display_name": "Python 3"
    },
    "language_info": {
      "name": "python"
    },
    "accelerator": "TPU"
  },
  "cells": [
    {
      "cell_type": "markdown",
      "metadata": {
        "id": "view-in-github",
        "colab_type": "text"
      },
      "source": [
        "<a href=\"https://colab.research.google.com/github/mcagriaksoy/pollen_multi_class_ai/blob/main/Pollen_classification_TL.ipynb\" target=\"_parent\"><img src=\"https://colab.research.google.com/assets/colab-badge.svg\" alt=\"Open In Colab\"/></a>"
      ]
    },
    {
      "cell_type": "code",
      "execution_count": 69,
      "metadata": {
        "id": "6_nwaEPTiUG5"
      },
      "outputs": [],
      "source": [
        "#Mehmet Cagri Aksoy . 2024\n",
        "#github.com/mcagriaksoy"
      ]
    },
    {
      "cell_type": "code",
      "source": [
        "from google.colab import drive\n",
        "drive.mount('/content/drive/')"
      ],
      "metadata": {
        "id": "99_Goru3i-Yl",
        "colab": {
          "base_uri": "https://localhost:8080/"
        },
        "outputId": "07fc7d37-f8a4-412f-9853-697317db8fd4"
      },
      "execution_count": 70,
      "outputs": [
        {
          "output_type": "stream",
          "name": "stdout",
          "text": [
            "Drive already mounted at /content/drive/; to attempt to forcibly remount, call drive.mount(\"/content/drive/\", force_remount=True).\n"
          ]
        }
      ]
    },
    {
      "cell_type": "code",
      "source": [
        "!unzip /content/drive/MyDrive/Datasets/Pollen/Pollen_Dataset.zip"
      ],
      "metadata": {
        "colab": {
          "base_uri": "https://localhost:8080/"
        },
        "id": "sScpnDCXkyjZ",
        "outputId": "46768ec9-2691-4515-c640-ca973ee0538d"
      },
      "execution_count": 71,
      "outputs": [
        {
          "output_type": "stream",
          "name": "stdout",
          "text": [
            "Archive:  /content/drive/MyDrive/Datasets/Pollen/Pollen_Dataset.zip\n",
            "replace Pollen Dataset/resize.py? [y]es, [n]o, [A]ll, [N]one, [r]ename: N\n"
          ]
        }
      ]
    },
    {
      "cell_type": "code",
      "source": [
        "CLASS_NUMBER = 77\n",
        "channels = 3\n",
        "img_height = 128\n",
        "img_width = 128\n",
        "epochs = 100\n",
        "batch_size = 16\n",
        "\n",
        "input_shape = (img_height,img_width,channels)"
      ],
      "metadata": {
        "id": "5oCZiGIZi_f5"
      },
      "execution_count": 72,
      "outputs": []
    },
    {
      "cell_type": "code",
      "source": [
        "import numpy as np\n",
        "import matplotlib.pyplot as plt\n",
        "import tensorflow as tf\n",
        "# We'll build the CNN as a sequence of layers.\n",
        "from tensorflow.keras import layers\n",
        "from tensorflow.keras.models import Sequential\n",
        "from tensorflow.keras.layers import Conv2D, MaxPooling2D, Dense, Dropout, Flatten, BatchNormalization\n",
        "# Libraries to handle the data\n",
        "import json\n",
        "from PIL import Image # PIL = Python Image Library\n",
        "from skimage.transform import resize\n",
        "from tensorflow.keras import Model\n",
        "from tensorflow.keras.layers import Dense, Dropout, GlobalAveragePooling2D"
      ],
      "metadata": {
        "id": "3RMyb4U4jIgS"
      },
      "execution_count": 73,
      "outputs": []
    },
    {
      "cell_type": "markdown",
      "source": [],
      "metadata": {
        "id": "G29QsTt_jKxR"
      }
    },
    {
      "cell_type": "code",
      "source": [
        "img_augmented = tf.keras.preprocessing.image.ImageDataGenerator(\n",
        "    rescale=1./255,\n",
        "    horizontal_flip=True,\n",
        "    height_shift_range=0.1,\n",
        "    width_shift_range=0.1,\n",
        "    brightness_range=(0.8,1.2),\n",
        "    zoom_range = [1, 1.2],\n",
        "    validation_split=0.2\n",
        ")\n",
        "\n",
        "dir = '/content/Pollen Dataset/train'\n",
        "\n",
        "train_dataset = img_augmented.flow_from_directory(batch_size=batch_size,\n",
        "                                                 directory=dir,\n",
        "                                                 shuffle=False,\n",
        "                                                 target_size=(img_height,img_width),\n",
        "                                                 subset=\"training\",\n",
        "                                                 class_mode='categorical')\n",
        "\n",
        "validation_dataset = img_augmented.flow_from_directory(batch_size=batch_size,\n",
        "                                                 directory=dir,\n",
        "                                                 shuffle=False,\n",
        "                                                 target_size=(img_height,img_width),\n",
        "                                                 subset=\"validation\",\n",
        "                                                 class_mode='categorical')\n"
      ],
      "metadata": {
        "colab": {
          "base_uri": "https://localhost:8080/"
        },
        "id": "cCIeFMoHnvBH",
        "outputId": "3804d37e-561b-41e8-e28a-8f7a822da26c"
      },
      "execution_count": 74,
      "outputs": [
        {
          "output_type": "stream",
          "name": "stdout",
          "text": [
            "Found 2708 images belonging to 77 classes.\n",
            "Found 675 images belonging to 77 classes.\n"
          ]
        }
      ]
    },
    {
      "cell_type": "code",
      "source": [],
      "metadata": {
        "id": "9WtXb8qgvCgB"
      },
      "execution_count": 74,
      "outputs": []
    },
    {
      "cell_type": "code",
      "source": [
        "base_model = tf.keras.applications.DenseNet121(input_shape = input_shape, include_top = False, weights = \"imagenet\")\n",
        "base_model.trainable = False\n",
        "model = tf.keras.Sequential([base_model,\n",
        "                             tf.keras.layers.GlobalAveragePooling2D(),\n",
        "                             tf.keras.layers.Dropout(0.2),\n",
        "                             tf.keras.layers.Dense(CLASS_NUMBER, activation=\"softmax\")\n",
        "                            ])\n",
        "model.summary()"
      ],
      "metadata": {
        "colab": {
          "base_uri": "https://localhost:8080/"
        },
        "id": "LiVqbVmJnCXd",
        "outputId": "e60306f1-b0dc-4a3d-dcdd-b7f1a037b6aa"
      },
      "execution_count": 75,
      "outputs": [
        {
          "output_type": "stream",
          "name": "stdout",
          "text": [
            "Model: \"sequential_8\"\n",
            "_________________________________________________________________\n",
            " Layer (type)                Output Shape              Param #   \n",
            "=================================================================\n",
            " densenet121 (Functional)    (None, 4, 4, 1024)        7037504   \n",
            "                                                                 \n",
            " global_average_pooling2d_8  (None, 1024)              0         \n",
            "  (GlobalAveragePooling2D)                                       \n",
            "                                                                 \n",
            " dropout_8 (Dropout)         (None, 1024)              0         \n",
            "                                                                 \n",
            " dense_8 (Dense)             (None, 77)                78925     \n",
            "                                                                 \n",
            "=================================================================\n",
            "Total params: 7116429 (27.15 MB)\n",
            "Trainable params: 78925 (308.30 KB)\n",
            "Non-trainable params: 7037504 (26.85 MB)\n",
            "_________________________________________________________________\n"
          ]
        }
      ]
    },
    {
      "cell_type": "code",
      "source": [
        "model.compile(optimizer=\"Adam\", loss='categorical_crossentropy', metrics=['accuracy'])"
      ],
      "metadata": {
        "id": "965zHYUUpmfe"
      },
      "execution_count": 76,
      "outputs": []
    },
    {
      "cell_type": "code",
      "source": [
        "from keras.callbacks import ModelCheckpoint, EarlyStopping\n",
        "\n",
        "model_path = 'best_model.h5'\n",
        "callback = [EarlyStopping(monitor ='val_loss', patience = 25),\n",
        "             ModelCheckpoint(filepath = model_path, save_best_only = True)]"
      ],
      "metadata": {
        "id": "5bd_Qe1jqZh8"
      },
      "execution_count": 77,
      "outputs": []
    },
    {
      "cell_type": "code",
      "source": [
        "model.fit(\n",
        "    train_dataset,\n",
        "    steps_per_epoch = train_dataset.samples // batch_size,\n",
        "    validation_data = validation_dataset,\n",
        "    validation_steps = validation_dataset.samples // batch_size,\n",
        "    epochs = 200,\n",
        "    callbacks = callback\n",
        "    )"
      ],
      "metadata": {
        "colab": {
          "base_uri": "https://localhost:8080/"
        },
        "id": "jjKXhyYTo7-R",
        "outputId": "e4798b8c-31ca-48c7-bf45-f959ba80ad7b"
      },
      "execution_count": null,
      "outputs": [
        {
          "output_type": "stream",
          "name": "stdout",
          "text": [
            "Epoch 1/200\n",
            " 17/169 [==>...........................] - ETA: 1:56 - loss: 5.9114 - accuracy: 0.0147"
          ]
        }
      ]
    }
  ]
}